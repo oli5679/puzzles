{
 "cells": [
  {
   "cell_type": "code",
   "execution_count": 26,
   "metadata": {},
   "outputs": [],
   "source": [
    "import tennis\n",
    "import simulation_utils\n",
    "import numpy as np"
   ]
  },
  {
   "cell_type": "markdown",
   "metadata": {},
   "source": [
    "## Question"
   ]
  },
  {
   "cell_type": "markdown",
   "metadata": {},
   "source": [
    "A tennis match is played as a series of POINTS, contained within GAMES, which in turn are contained within SETS.\n",
    "\n",
    "If a player reaches 4 or more points won in a game, and also has won 2 points more than their opponent, then they win that game.\n",
    "\n",
    "If a player reaches 6 or more games won in a set, and also has won 2 games more than their opponent, then they win that set. If both players reach 6 games, then a TIE-BREAK is played to determine the winner of the set.\n",
    "\n",
    "Suppose Djokovic plays a set of tennis against Murray under these rules, and his probablity of winning a point is 0.52. Assuming the probability of winning a point remains constant throughout, what would be the probability of Djokovic winnng the set 4-6?"
   ]
  },
  {
   "cell_type": "markdown",
   "metadata": {},
   "source": [
    "## Constants"
   ]
  },
  {
   "cell_type": "code",
   "execution_count": 46,
   "metadata": {},
   "outputs": [],
   "source": [
    "POINT_WIN_PROB = 0.52\n",
    "TARGET_SET_SCORE = (4,6)"
   ]
  },
  {
   "cell_type": "markdown",
   "metadata": {},
   "source": [
    "## Game winning probability"
   ]
  },
  {
   "cell_type": "markdown",
   "metadata": {},
   "source": [
    "### Solving for deuce"
   ]
  },
  {
   "cell_type": "markdown",
   "metadata": {},
   "source": [
    "If $p$ = point winning prob\n",
    "and $v_{d}(p)$ is game winning prob from deuce\n"
   ]
  },
  {
   "cell_type": "markdown",
   "metadata": {},
   "source": [
    "$ v_{d}(p) = p^2*1 + (1-p)^2*0 + 2(p)(1-p)*v_{d}(p)$"
   ]
  },
  {
   "cell_type": "markdown",
   "metadata": {},
   "source": [
    "This simplifies to\n",
    "$v_{d}(p) = \\frac{p^2}{1-2p(1-p)}$"
   ]
  },
  {
   "cell_type": "code",
   "execution_count": 47,
   "metadata": {},
   "outputs": [
    {
     "name": "stdout",
     "output_type": "stream",
     "text": [
      "Prob. of win from deuce = 54.0%\n"
     ]
    }
   ],
   "source": [
    "outcome_prob_finder = tennis.OutcomeProbability(POINT_WIN_PROB,TARGET_SET_SCORE)\n",
    "print(f'Prob. of win from deuce = {outcome_prob_finder._deuce_win_prob()*100:.1f}%')"
   ]
  },
  {
   "cell_type": "markdown",
   "metadata": {},
   "source": [
    "### Solving for a single game"
   ]
  },
  {
   "cell_type": "markdown",
   "metadata": {},
   "source": [
    "If $p$ is chance of winning a single point, and $s_{0}$, $s_{1}$ is current score\n",
    "\n",
    "then can find can find chance of winning game recursively using\n",
    "\n",
    "$v_{g}(p,s_{0},s_{1}) = $\n",
    "\n",
    "if $player_{0}$ has already won $\\rightarrow 1 $\n",
    "\n",
    "if $player_{1}$ has already won $\\rightarrow 0$\n",
    "\n",
    "if score is deuce $\\rightarrow v_{d}(p)$ \n",
    "\n",
    "else $p*v_{g}(p,s_{0}+1,s_{1}) + (1-p)*v_{g}(p,s_{0},s_{1}+1)$\n"
   ]
  },
  {
   "cell_type": "code",
   "execution_count": 48,
   "metadata": {},
   "outputs": [
    {
     "name": "stdout",
     "output_type": "stream",
     "text": [
      "Prob. of winning single game from 0-0 = 55.0%\n"
     ]
    }
   ],
   "source": [
    "outcome_prob_finder = tennis.OutcomeProbability(POINT_WIN_PROB,TARGET_SET_SCORE)\n",
    "print(f'Prob. of winning single game from 0-0 = {outcome_prob_finder.win_game_prob()*100:.1f}%')"
   ]
  },
  {
   "cell_type": "markdown",
   "metadata": {},
   "source": [
    "### Solving for chance of reaching score"
   ]
  },
  {
   "cell_type": "markdown",
   "metadata": {},
   "source": [
    "Can use the same recursive approach as above, using the derived $v_{g}(p,0,0)$ to give chance of winning single game.\n",
    "\n",
    "Here, base cases are returning 1 if target score is reached, or 0 if game ends, or a score higher than the target for one of players is reached"
   ]
  },
  {
   "cell_type": "code",
   "execution_count": 49,
   "metadata": {},
   "outputs": [
    {
     "data": {
      "text/plain": [
       "0.09581013757744174"
      ]
     },
     "execution_count": 49,
     "metadata": {},
     "output_type": "execute_result"
    }
   ],
   "source": [
    "outcome_prob_finder.outcome_prob()"
   ]
  },
  {
   "cell_type": "code",
   "execution_count": 44,
   "metadata": {},
   "outputs": [
    {
     "name": "stdout",
     "output_type": "stream",
     "text": [
      "Prob. of reaching score (1, 6) = 2.0432%\n"
     ]
    }
   ],
   "source": [
    "outcome_prob_finder = tennis.OutcomeProbability(POINT_WIN_PROB,TARGET_SET_SCORE)\n",
    "print(f'Prob. of reaching score {TARGET_SET_SCORE} = {outcome_prob_finder.outcome_prob()*100:.4f}%')"
   ]
  },
  {
   "cell_type": "markdown",
   "metadata": {},
   "source": [
    "## Extension - Baysian updating of point win prob"
   ]
  },
  {
   "cell_type": "markdown",
   "metadata": {},
   "source": [
    "In practice, our belief of the point winning probability might change as the game progresses. We can model this using a Beta-prior."
   ]
  },
  {
   "cell_type": "markdown",
   "metadata": {},
   "source": [
    "https://stats.stackexchange.com/questions/181383/understanding-the-beta-conjugate-prior-in-bayesian-inference-about-a-frequency"
   ]
  },
  {
   "cell_type": "markdown",
   "metadata": {},
   "source": [
    "We start with a prior belief of the point win prob, and a weight (how quickly we will update this belief)."
   ]
  },
  {
   "cell_type": "code",
   "execution_count": 35,
   "metadata": {},
   "outputs": [],
   "source": [
    "STRONG_PRIOR = 10000\n",
    "WEAK_PRIOR = 40"
   ]
  },
  {
   "cell_type": "code",
   "execution_count": 36,
   "metadata": {
    "scrolled": true
   },
   "outputs": [],
   "source": [
    "simulations_strong_prior = []\n",
    "for _ in range(10000):\n",
    "    simulator = tennis.Bayesian_Game_Simulation(prior=[int(POINT_WIN_PROB*STRONG_PRIOR),\n",
    "                                                   int((1.0-POINT_WIN_PROB)*STRONG_PRIOR)],\n",
    "                         target_score=TARGET_SET_SCORE,\n",
    "                        point_score=[0,0],\n",
    "                        game_score=[0,0])\n",
    "    outcome = simulator.sim_outcome()\n",
    "    simulations_strong_prior.append(outcome)"
   ]
  },
  {
   "cell_type": "code",
   "execution_count": 37,
   "metadata": {},
   "outputs": [
    {
     "data": {
      "text/plain": [
       "0.1505"
      ]
     },
     "execution_count": 37,
     "metadata": {},
     "output_type": "execute_result"
    }
   ],
   "source": [
    "np.array(simulations_strong_prior).mean()"
   ]
  },
  {
   "cell_type": "markdown",
   "metadata": {},
   "source": [
    "pretty close to constant probability model, because strong prior not updated much"
   ]
  },
  {
   "cell_type": "markdown",
   "metadata": {},
   "source": [
    "Simulate with weaker prior"
   ]
  },
  {
   "cell_type": "code",
   "execution_count": 38,
   "metadata": {},
   "outputs": [],
   "source": [
    "simulations_weak_prior = []\n",
    "for _ in range(10000):\n",
    "    simulator = tennis.Bayesian_Game_Simulation(prior=[int(POINT_WIN_PROB*WEAK_PRIOR),\n",
    "                                                   int((1.0-POINT_WIN_PROB)*WEAK_PRIOR)],\n",
    "                         target_score=TARGET_SET_SCORE,\n",
    "                        point_score=[0,0],\n",
    "                        game_score=[0,0])\n",
    "    outcome = simulator.sim_outcome()\n",
    "    simulations_weak_prior.append(outcome)"
   ]
  },
  {
   "cell_type": "code",
   "execution_count": 39,
   "metadata": {},
   "outputs": [
    {
     "data": {
      "text/plain": [
       "0.1166"
      ]
     },
     "execution_count": 39,
     "metadata": {},
     "output_type": "execute_result"
    }
   ],
   "source": [
    "np.array(simulations_weak_prior).mean()"
   ]
  },
  {
   "cell_type": "code",
   "execution_count": null,
   "metadata": {},
   "outputs": [],
   "source": []
  }
 ],
 "metadata": {
  "kernelspec": {
   "display_name": "Python 3",
   "language": "python",
   "name": "python3"
  },
  "language_info": {
   "codemirror_mode": {
    "name": "ipython",
    "version": 3
   },
   "file_extension": ".py",
   "mimetype": "text/x-python",
   "name": "python",
   "nbconvert_exporter": "python",
   "pygments_lexer": "ipython3",
   "version": "3.7.1"
  }
 },
 "nbformat": 4,
 "nbformat_minor": 2
}
